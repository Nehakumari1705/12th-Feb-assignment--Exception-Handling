{
 "cells": [
  {
   "cell_type": "markdown",
   "id": "9d5ed6ab",
   "metadata": {},
   "source": [
    "#### Q1. What is an Exception in python? write the difference between Exceptions and Syntax errors?\n"
   ]
  },
  {
   "cell_type": "markdown",
   "id": "ee5b84c7",
   "metadata": {},
   "source": [
    "#### Ans-  In Python, an exception is an unexpected event or error that occurs during the execution of a program. When an exception occurs, the normal flow of the program is interrupted, and Python raises an exception object. The program can then handle the exception using try-except blocks or allow it to propagate up the call stack.\n",
    "\n",
    "#### Exceptions can occur due to various reasons, such as division by zero, accessing an index out of range, type errors, file not found, and more. Python provides a wide range of built-in exceptions to handle common types of errors, and developers can also define their own custom exceptions when needed.In Python, an exception is an unexpected event or error that occurs during the execution of a program. When an exception occurs, the normal flow of the program is interrupted, and Python raises an exception object. The program can then handle the exception using try-except blocks or allow it to propagate up the call stack.\n",
    "\n",
    "\n",
    "\n",
    "#### Difference between Exceptions and Syntax Errors:\n",
    "\n",
    "#### Syntax Errors:\n",
    "\n",
    "Syntax errors occur during the compilation or parsing of Python code.\n",
    "\n",
    "They are caused by violations of the Python syntax rules, such as missing colons, incorrect indentation, using undefined variables, or using invalid operators.\n",
    "\n",
    "Syntax errors are detected by the Python interpreter before the program is executed.\n",
    "\n",
    "When a syntax error is encountered, the Python interpreter raises a \"SyntaxError\" and points to the line where the error occurred, indicating the issue.\n",
    "\n",
    "#### Exceptions:\n",
    "\n",
    "Exceptions occur during the execution of Python code, after it has been successfully parsed and compiled.\n",
    "\n",
    "They are caused by unexpected conditions or situations that arise during program execution, such as division by zero, attempting to access an index out of range, or encountering an unexpected data type.\n",
    "\n",
    "Exceptions can be handled using try-except blocks, allowing the program to gracefully recover from errors and continue executing.\n",
    "\n",
    "When an exception is raised, Python creates an exception object, searches for a matching except block to handle the specific exception type, and executes the code within the except block to address the error."
   ]
  },
  {
   "cell_type": "markdown",
   "id": "dae3b4af",
   "metadata": {},
   "source": [
    "#### Q2. What happens when an exception is not handled ? Explain with an example."
   ]
  },
  {
   "cell_type": "markdown",
   "id": "34dba1b8",
   "metadata": {},
   "source": [
    "#### Ans-  When an exception is not handled, it leads to the program terminating abruptly with an error message, and the rest of the code following the point of exception is not executed. The program \"crashes\" or \"throws\" an unhandled exception, and the error message provides information about the type of exception and the traceback, which shows the sequence of function calls that led to the exception.\n",
    "\n",
    "Example:"
   ]
  },
  {
   "cell_type": "code",
   "execution_count": 12,
   "id": "88e3d692",
   "metadata": {},
   "outputs": [
    {
     "ename": "ZeroDivisionError",
     "evalue": "division by zero",
     "output_type": "error",
     "traceback": [
      "\u001b[1;31m---------------------------------------------------------------------------\u001b[0m",
      "\u001b[1;31mZeroDivisionError\u001b[0m                         Traceback (most recent call last)",
      "\u001b[1;32m~\\AppData\\Local\\Temp\\ipykernel_18576\\3186099156.py\u001b[0m in \u001b[0;36m<module>\u001b[1;34m\u001b[0m\n\u001b[0;32m      5\u001b[0m \u001b[0mnum2\u001b[0m \u001b[1;33m=\u001b[0m \u001b[1;36m0\u001b[0m\u001b[1;33m\u001b[0m\u001b[1;33m\u001b[0m\u001b[0m\n\u001b[0;32m      6\u001b[0m \u001b[1;33m\u001b[0m\u001b[0m\n\u001b[1;32m----> 7\u001b[1;33m \u001b[0mresult\u001b[0m \u001b[1;33m=\u001b[0m \u001b[0mdivide_numbers\u001b[0m\u001b[1;33m(\u001b[0m\u001b[0mnum1\u001b[0m\u001b[1;33m,\u001b[0m \u001b[0mnum2\u001b[0m\u001b[1;33m)\u001b[0m\u001b[1;33m\u001b[0m\u001b[1;33m\u001b[0m\u001b[0m\n\u001b[0m\u001b[0;32m      8\u001b[0m \u001b[1;33m\u001b[0m\u001b[0m\n\u001b[0;32m      9\u001b[0m \u001b[0mprint\u001b[0m\u001b[1;33m(\u001b[0m\u001b[1;34m\"Result:\"\u001b[0m\u001b[1;33m,\u001b[0m \u001b[0mresult\u001b[0m\u001b[1;33m)\u001b[0m\u001b[1;33m\u001b[0m\u001b[1;33m\u001b[0m\u001b[0m\n",
      "\u001b[1;32m~\\AppData\\Local\\Temp\\ipykernel_18576\\3186099156.py\u001b[0m in \u001b[0;36mdivide_numbers\u001b[1;34m(a, b)\u001b[0m\n\u001b[0;32m      1\u001b[0m \u001b[1;32mdef\u001b[0m \u001b[0mdivide_numbers\u001b[0m\u001b[1;33m(\u001b[0m\u001b[0ma\u001b[0m\u001b[1;33m,\u001b[0m \u001b[0mb\u001b[0m\u001b[1;33m)\u001b[0m\u001b[1;33m:\u001b[0m\u001b[1;33m\u001b[0m\u001b[1;33m\u001b[0m\u001b[0m\n\u001b[1;32m----> 2\u001b[1;33m     \u001b[1;32mreturn\u001b[0m \u001b[0ma\u001b[0m \u001b[1;33m/\u001b[0m \u001b[0mb\u001b[0m\u001b[1;33m\u001b[0m\u001b[1;33m\u001b[0m\u001b[0m\n\u001b[0m\u001b[0;32m      3\u001b[0m \u001b[1;33m\u001b[0m\u001b[0m\n\u001b[0;32m      4\u001b[0m \u001b[0mnum1\u001b[0m \u001b[1;33m=\u001b[0m \u001b[1;36m10\u001b[0m\u001b[1;33m\u001b[0m\u001b[1;33m\u001b[0m\u001b[0m\n\u001b[0;32m      5\u001b[0m \u001b[0mnum2\u001b[0m \u001b[1;33m=\u001b[0m \u001b[1;36m0\u001b[0m\u001b[1;33m\u001b[0m\u001b[1;33m\u001b[0m\u001b[0m\n",
      "\u001b[1;31mZeroDivisionError\u001b[0m: division by zero"
     ]
    }
   ],
   "source": [
    "def divide_numbers(a, b):\n",
    "    return a / b\n",
    "\n",
    "num1 = 10\n",
    "num2 = 0\n",
    "\n",
    "result = divide_numbers(num1, num2)\n",
    "\n",
    "print(\"Result:\", result)\n"
   ]
  },
  {
   "cell_type": "markdown",
   "id": "3fd7247e",
   "metadata": {},
   "source": [
    "In this example, we have a function divide_numbers that performs division of two numbers. However, we attempt to divide by zero, which is not allowed in mathematics. When the program reaches this line of code (result = divide_numbers(num1, num2)), a \"ZeroDivisionError\" exception is raised.\n",
    "\n",
    "Since there is no exception handling for this specific exception in the code, the exception is not caught or handled, and the program crashes with an error message:"
   ]
  },
  {
   "cell_type": "markdown",
   "id": "3beef6cc",
   "metadata": {},
   "source": [
    "#### To prevent this crash and gracefully handle exceptions, we can use a try-except block to catch and handle the exception:"
   ]
  },
  {
   "cell_type": "code",
   "execution_count": 13,
   "id": "ec24432b",
   "metadata": {},
   "outputs": [
    {
     "name": "stdout",
     "output_type": "stream",
     "text": [
      "Error: Cannot divide by zero\n"
     ]
    }
   ],
   "source": [
    "def divide_numbers(a, b):\n",
    "    return a / b\n",
    "\n",
    "num1 = 10\n",
    "num2 = 0\n",
    "\n",
    "try:\n",
    "    result = divide_numbers(num1, num2)\n",
    "    print(\"Result:\", result)\n",
    "except ZeroDivisionError:\n",
    "    print(\"Error: Cannot divide by zero\")\n"
   ]
  },
  {
   "cell_type": "markdown",
   "id": "9954011d",
   "metadata": {},
   "source": [
    "#### With the try-except block, the program will catch the \"ZeroDivisionError\" exception and execute the code within the except block, providing a custom error message. This way, the program can continue running smoothly, handling the exception without crashing."
   ]
  },
  {
   "cell_type": "markdown",
   "id": "b72dd352",
   "metadata": {},
   "source": [
    "#### Q3. Which python statements are used to catch and handle exceptions? Explain with an example."
   ]
  },
  {
   "cell_type": "markdown",
   "id": "1e8fc120",
   "metadata": {},
   "source": [
    "#### Ans- In Python, the try-except block is used to catch and handle exceptions. The try block contains the code that might raise an exception, and the except block contains the code that handles the exception if it occurs."
   ]
  },
  {
   "cell_type": "code",
   "execution_count": 14,
   "id": "45ce487c",
   "metadata": {},
   "outputs": [
    {
     "name": "stdout",
     "output_type": "stream",
     "text": [
      "Error: Cannot divide by zero\n"
     ]
    }
   ],
   "source": [
    "def divide_numbers(a, b):\n",
    "    return a / b\n",
    "\n",
    "num1 = 10\n",
    "num2 = 0\n",
    "\n",
    "try:\n",
    "    result = divide_numbers(num1, num2)\n",
    "    print(\"Result:\", result)\n",
    "except ZeroDivisionError:\n",
    "    print(\"Error: Cannot divide by zero\")\n",
    "except TypeError:\n",
    "    print(\"Error: Invalid data types used for division\")\n",
    "except Exception as e:\n",
    "    print(\"Error:\", e)\n"
   ]
  },
  {
   "cell_type": "markdown",
   "id": "e33d3b91",
   "metadata": {},
   "source": [
    "#### In this example, we have a function divide_numbers that performs division of two numbers. We use the try-except block to catch and handle potential exceptions that might occur during the division.\n",
    "\n",
    "* Inside the try block, we call the divide_numbers function with num1 and num2 as arguments. Since num2 is 0, it will raise a ZeroDivisionError exception.\n",
    "\n",
    "* The except block with ZeroDivisionError catches this specific exception and prints the message \"Error: Cannot divide by zero\".\n",
    "\n",
    "* If there was any other exception that is not caught by the previous except blocks, the generic except block (except Exception as e) will catch it and print the specific error message.\n",
    "\n",
    "* With the try-except block, the program can gracefully handle exceptions and continue running without crashing. It allows developers to provide custom error messages and take appropriate actions based on the type of exception raised, improving the robustness of the code.\n",
    "\n"
   ]
  },
  {
   "cell_type": "markdown",
   "id": "3fceeb98",
   "metadata": {},
   "source": [
    "#### Q4. Explain with an example:\n",
    " \n",
    " a. try and else \n",
    " \n",
    " b. finally\n",
    " \n",
    " c. raise"
   ]
  },
  {
   "cell_type": "markdown",
   "id": "b40c490e",
   "metadata": {},
   "source": [
    "#### Ans-  a. try and else:\n",
    "\n",
    "The 'try' and 'else' blocks are used together in Python to handle exceptions and execute additional code if no exceptions occur. The 'try' block contains the code that might raise an exception, and the 'else' block contains the code that will be executed only if no exceptions are raised in the try block."
   ]
  },
  {
   "cell_type": "code",
   "execution_count": 15,
   "id": "4afd8a51",
   "metadata": {},
   "outputs": [
    {
     "name": "stdout",
     "output_type": "stream",
     "text": [
      "Result: 2.0\n"
     ]
    }
   ],
   "source": [
    "def divide_numbers(a, b):\n",
    "    return a / b\n",
    "\n",
    "num1 = 10\n",
    "num2 = 5\n",
    "\n",
    "try:\n",
    "    result = divide_numbers(num1, num2)\n",
    "except ZeroDivisionError:\n",
    "    print(\"Error: Cannot divide by zero\")\n",
    "else:\n",
    "    print(\"Result:\", result)\n"
   ]
  },
  {
   "cell_type": "markdown",
   "id": "95bb1753",
   "metadata": {},
   "source": [
    "In this example, the try block calls the divide_numbers function with num1 and num2 as arguments, which will not raise a ZeroDivisionError exception since num2 is not zero. As a result, the code inside the else block will be executed, and it will print \"Result: 2.0\"."
   ]
  },
  {
   "cell_type": "markdown",
   "id": "23d91159",
   "metadata": {},
   "source": [
    "####  b. finally:\n",
    "\n",
    "The finally block in Python is used along with the try block to ensure that some code is executed no matter whether an exception is raised or not. The code inside the finally block will be executed regardless of whether an exception occurs and whether it is caught or not."
   ]
  },
  {
   "cell_type": "code",
   "execution_count": 16,
   "id": "b4010e49",
   "metadata": {},
   "outputs": [
    {
     "name": "stdout",
     "output_type": "stream",
     "text": [
      "Result: 2.0\n",
      "Division operation completed.\n"
     ]
    }
   ],
   "source": [
    "def divide_numbers(a, b):\n",
    "    try:\n",
    "        result = a / b\n",
    "    except ZeroDivisionError:\n",
    "        print(\"Error: Cannot divide by zero\")\n",
    "    else:\n",
    "        print(\"Result:\", result)\n",
    "    finally:\n",
    "        print(\"Division operation completed.\")\n",
    "\n",
    "num1 = 10\n",
    "num2 = 5\n",
    "\n",
    "divide_numbers(num1, num2)\n"
   ]
  },
  {
   "cell_type": "markdown",
   "id": "6fde52b9",
   "metadata": {},
   "source": [
    "In this example, the finally block is used to print \"Division operation completed.\" after the try block and the else block finish executing. No matter if the division is successful or if an exception occurs, the finally block ensures that the final message is printed."
   ]
  },
  {
   "cell_type": "markdown",
   "id": "dfc8b1e9",
   "metadata": {},
   "source": [
    "#### c. raise:\n",
    "\n",
    "The raise statement in Python is used to explicitly raise exceptions. It allows developers to raise specific exceptions at certain points in the code, rather than waiting for exceptions to occur naturally."
   ]
  },
  {
   "cell_type": "code",
   "execution_count": 19,
   "id": "d4d2e01d",
   "metadata": {},
   "outputs": [
    {
     "name": "stdout",
     "output_type": "stream",
     "text": [
      "Enter your age: 6\n",
      "Error: You must be 18 years or older.\n"
     ]
    }
   ],
   "source": [
    "def validate_age(age):\n",
    "    if age < 0:\n",
    "        raise ValueError(\"Age cannot be negative.\")\n",
    "    elif age < 18:\n",
    "        raise ValueError(\"You must be 18 years or older.\")\n",
    "    else:\n",
    "        print(\"Age is valid.\")\n",
    "\n",
    "try:\n",
    "    age = int(input(\"Enter your age: \"))\n",
    "    validate_age(age)\n",
    "except ValueError as ve:\n",
    "    print(\"Error:\", ve)\n"
   ]
  },
  {
   "cell_type": "markdown",
   "id": "0502cb76",
   "metadata": {},
   "source": [
    "In this example, the validate_age function checks if the age input is valid or not. If the age is negative or less than 18, the function raises a ValueError with a custom error message using the raise statement. This allows us to handle specific cases and provide meaningful error messages to the user."
   ]
  },
  {
   "cell_type": "markdown",
   "id": "b123543c",
   "metadata": {},
   "source": [
    "#### Q5. What are Custom Exceptions in python? Why do we need custom Exceptions? Explain with an example."
   ]
  },
  {
   "cell_type": "markdown",
   "id": "d5fa3a26",
   "metadata": {},
   "source": [
    "#### Ans- \n",
    "Custom exceptions in Python are user-defined exceptions that allow developers to create their own specialized exception types. We need custom exceptions to handle specific error scenarios with more meaningful error messages, improving code readability and maintainability."
   ]
  },
  {
   "cell_type": "markdown",
   "id": "7d908b7a",
   "metadata": {},
   "source": [
    "#### We need custom exceptions because: \n",
    "\n",
    "* Specific error handling: Custom exceptions allow us to handle specific error scenarios in a more precise way. Instead of using generic built-in exceptions, we can create custom exceptions that reflect the nature of the error, making it easier to identify and debug issues in the code.\n",
    "\n",
    "* Code readability: Custom exceptions make the code more readable and self-explanatory. When custom exceptions are raised, they indicate the specific problem or condition that occurred, making it easier for other developers to understand the intent of the code.\n",
    "\n",
    "* Code maintainability: By using custom exceptions, we can centralize the error handling logic and make it easier to maintain and update error handling in the codebase."
   ]
  },
  {
   "cell_type": "code",
   "execution_count": 20,
   "id": "b873be27",
   "metadata": {},
   "outputs": [
    {
     "name": "stdout",
     "output_type": "stream",
     "text": [
      "Enter a positive number: -5\n",
      "Error: Number must be positive.\n"
     ]
    }
   ],
   "source": [
    "class CustomError(Exception):\n",
    "    pass\n",
    "\n",
    "try:\n",
    "    num = int(input(\"Enter a positive number: \"))\n",
    "    if num <= 0:\n",
    "        raise CustomError(\"Number must be positive.\")\n",
    "    print(\"You entered:\", num)\n",
    "except CustomError as ce:\n",
    "    print(\"Error:\", ce)\n",
    "except ValueError:\n",
    "    print(\"Error: Invalid input. Please enter a valid positive number.\")\n"
   ]
  },
  {
   "cell_type": "markdown",
   "id": "ad05e81b",
   "metadata": {},
   "source": [
    "#### Q6. Create a custom exceptions class. Use this class to handle an exception."
   ]
  },
  {
   "cell_type": "code",
   "execution_count": 11,
   "id": "0239d5d9",
   "metadata": {},
   "outputs": [
    {
     "name": "stdout",
     "output_type": "stream",
     "text": [
      "Enter the numerator: 6\n",
      "Enter the denominator: 0\n",
      "Error: Cannot divide by zero.\n"
     ]
    }
   ],
   "source": [
    "class InvalidInputException(Exception):\n",
    "    \"\"\"Custom exception for invalid input.\"\"\"\n",
    "\n",
    "    def __init__(self, message=\"Invalid input.\"):\n",
    "        self.message = message\n",
    "        super().__init__(self.message)\n",
    "\n",
    "def divide_numbers(a, b):\n",
    "    if b == 0:\n",
    "        raise InvalidInputException(\"Cannot divide by zero.\")\n",
    "    return a / b\n",
    "\n",
    "# Sample code to use the custom exception\n",
    "try:\n",
    "    num1 = float(input(\"Enter the numerator: \"))\n",
    "    num2 = float(input(\"Enter the denominator: \"))\n",
    "    result = divide_numbers(num1, num2)\n",
    "    print(f\"Result: {result}\")\n",
    "except ValueError:\n",
    "    print(\"Invalid input. Please enter valid numbers.\")\n",
    "except InvalidInputException as e:\n",
    "    print(f\"Error: {e}\")\n"
   ]
  },
  {
   "cell_type": "code",
   "execution_count": null,
   "id": "76f7c97d",
   "metadata": {},
   "outputs": [],
   "source": []
  }
 ],
 "metadata": {
  "kernelspec": {
   "display_name": "Python 3 (ipykernel)",
   "language": "python",
   "name": "python3"
  },
  "language_info": {
   "codemirror_mode": {
    "name": "ipython",
    "version": 3
   },
   "file_extension": ".py",
   "mimetype": "text/x-python",
   "name": "python",
   "nbconvert_exporter": "python",
   "pygments_lexer": "ipython3",
   "version": "3.9.13"
  }
 },
 "nbformat": 4,
 "nbformat_minor": 5
}
